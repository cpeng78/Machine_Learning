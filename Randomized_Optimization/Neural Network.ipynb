{
 "cells": [
  {
   "cell_type": "code",
   "execution_count": 4,
   "metadata": {},
   "outputs": [],
   "source": [
    "import six\n",
    "import sys\n",
    "sys.modules['sklearn.externals.six'] = six\n",
    "import mlrose\n",
    "import numpy as np\n",
    "\n",
    "from sklearn.datasets import load_iris\n",
    "from sklearn.model_selection import train_test_split\n",
    "from sklearn.preprocessing import MinMaxScaler, OneHotEncoder\n",
    "from sklearn.metrics import accuracy_score\n",
    "\n",
    "import matplotlib.pyplot as plt\n",
    "import time\n",
    "from time import perf_counter\n",
    "\n",
    "# Importing required packages.\n",
    "import pandas as pd\n",
    "import seaborn as sns\n",
    "import matplotlib.pyplot as plt\n",
    "from sklearn.tree import DecisionTreeClassifier\n",
    "from sklearn import tree\n",
    "from sklearn.neural_network import MLPClassifier\n",
    "#from sklearn.ensemble import AdaBoostClassifier\n",
    "#from sklearn.svm import SVC\n",
    "#from sklearn import svm\n",
    "#from sklearn.neighbors import KNeighborsClassifier\n",
    "\n",
    "\n",
    "from sklearn.metrics import confusion_matrix, classification_report, accuracy_score\n",
    "from sklearn.preprocessing import OrdinalEncoder, OneHotEncoder, LabelEncoder\n",
    "from sklearn.model_selection import train_test_split, learning_curve\n",
    "%matplotlib inline"
   ]
  },
  {
   "cell_type": "code",
   "execution_count": 5,
   "metadata": {},
   "outputs": [],
   "source": [
    "# Loading dataset\n",
    "diabetes = pd.read_csv('data/diabetes_data_upload.csv')\n",
    "obesity = pd.read_csv('data/ObesityDataSet_raw_and_data_sinthetic.csv')\n",
    "\n",
    "# split features and labels\n",
    "x = diabetes.drop('class', axis=1)\n",
    "y = diabetes['class']\n",
    "\n",
    "# encode features to integer\n",
    "trans_columns = x.columns[x.dtypes == 'O']\n",
    "enc = OrdinalEncoder()\n",
    "enc.fit(x[trans_columns])\n",
    "x[trans_columns] = enc.transform(x[trans_columns])\n",
    "\n",
    "# encode labels to interger\n",
    "le = LabelEncoder()\n",
    "y = le.fit_transform(y)\n",
    "\n",
    "# split train and test dataset\n",
    "x_train, x_test, y_train, y_test = train_test_split(x, y, test_size=0.2, random_state=78)\n",
    "\n"
   ]
  },
  {
   "cell_type": "code",
   "execution_count": 38,
   "metadata": {},
   "outputs": [
    {
     "name": "stdout",
     "output_type": "stream",
     "text": [
      "Train accuracy for MLPClassifier(hidden_layer_sizes=10, max_iter=2000, random_state=42,\n",
      "              validation_fraction=0.2): 0.9302884615384616\n",
      "Test accuracy for MLPClassifier(hidden_layer_sizes=10, max_iter=2000, random_state=42,\n",
      "              validation_fraction=0.2): 0.9519230769230769\n",
      "Train: fit_time = 0.7724364999994577\n"
     ]
    }
   ],
   "source": [
    "nn = MLPClassifier(hidden_layer_sizes=(10), activation = 'relu', solver='adam', \n",
    "                    alpha=0.0001, max_iter=2000, validation_fraction=0.2, random_state=2)\n",
    "time_start = perf_counter()\n",
    "nn.fit(x_train, y_train)\n",
    "fit_time = perf_counter() - time_start\n",
    "\n",
    "y_train_pred = nn.predict(x_train)\n",
    "y_train_accuracy = accuracy_score(y_train, y_train_pred)\n",
    "print(\"Train accuracy for {}: {}\".format(nn, y_train_accuracy))\n",
    "\n",
    "y_test_pred = nn.predict(x_test)\n",
    "y_test_accuracy = accuracy_score(y_test, y_test_pred)\n",
    "print(\"Test accuracy for {}: {}\".format(nn, y_test_accuracy))\n",
    "\n",
    "print(f'Train: fit_time = {fit_time}')"
   ]
  },
  {
   "cell_type": "code",
   "execution_count": 39,
   "metadata": {},
   "outputs": [],
   "source": [
    "np.random.seed(42)\n",
    "nn_model_rhc = mlrose.NeuralNetwork(hidden_nodes=[10], activation='relu',\n",
    "                                    algorithm='random_hill_climb', max_iters=2000,\n",
    "                                    bias=True, is_classifier=True, learning_rate=0.1,\n",
    "                                    early_stopping=True, clip_max=5, max_attempts=100,\n",
    "                                    random_state=3)\n",
    "nn_model_sa = mlrose.NeuralNetwork(hidden_nodes=[10], activation='relu',\n",
    "                                   algorithm='simulated_annealing', max_iters=2000,\n",
    "                                   bias=True, is_classifier=True, learning_rate=1,\n",
    "                                   early_stopping=True, clip_max=5, max_attempts=100,\n",
    "                                   random_state=3)\n",
    "nn_model_ga = mlrose.NeuralNetwork(hidden_nodes=[10], activation='relu',\n",
    "                                   algorithm='genetic_alg', max_iters=2000,\n",
    "                                   bias=True, is_classifier=True, learning_rate=1,\n",
    "                                   early_stopping=True, clip_max=5, max_attempts=100,\n",
    "                                   random_state=3)"
   ]
  },
  {
   "cell_type": "code",
   "execution_count": 40,
   "metadata": {},
   "outputs": [
    {
     "name": "stdout",
     "output_type": "stream",
     "text": [
      "Train accuracy for NeuralNetwork(clip_max=5, early_stopping=True, hidden_nodes=[10],\n",
      "              max_iters=2000): 0.8918269230769231\n",
      "Test accuracy for NeuralNetwork(clip_max=5, early_stopping=True, hidden_nodes=[10],\n",
      "              max_iters=2000): 0.8942307692307693\n",
      "Time needed: 3.1470675468444824\n",
      "Train accuracy for NeuralNetwork(clip_max=5, early_stopping=True, hidden_nodes=[10],\n",
      "              learning_rate=1, max_iters=2000): 0.9014423076923077\n",
      "Test accuracy for NeuralNetwork(clip_max=5, early_stopping=True, hidden_nodes=[10],\n",
      "              learning_rate=1, max_iters=2000): 0.8846153846153846\n",
      "Time needed: 4.021530389785767\n",
      "Train accuracy for NeuralNetwork(clip_max=5, early_stopping=True, hidden_nodes=[10],\n",
      "              learning_rate=1, max_iters=2000): 0.375\n",
      "Test accuracy for NeuralNetwork(clip_max=5, early_stopping=True, hidden_nodes=[10],\n",
      "              learning_rate=1, max_iters=2000): 0.4230769230769231\n",
      "Time needed: 61.38930583000183\n"
     ]
    }
   ],
   "source": [
    "neural_nets = [nn_model_rhc, nn_model_sa, nn_model_ga]\n",
    "train_acc = [y_train_accuracy]\n",
    "test_acc = [y_test_accuracy]\n",
    "train_time = [fit_time]\n",
    "for nn in neural_nets:\n",
    "    t = time.time()\n",
    "    nn.fit(x_train, y_train)\n",
    "\n",
    "    y_train_pred = nn.predict(x_train)\n",
    "    y_train_accuracy = accuracy_score(y_train, y_train_pred)\n",
    "    print(\"Train accuracy for {}: {}\".format(nn, y_train_accuracy))\n",
    "    train_acc.append(y_train_accuracy)\n",
    "\n",
    "    y_test_pred = nn.predict(x_test)\n",
    "    y_test_accuracy = accuracy_score(y_test, y_test_pred)\n",
    "    print(\"Test accuracy for {}: {}\".format(nn, y_test_accuracy))\n",
    "    test_acc.append(y_test_accuracy)\n",
    "    train_t = time.time()-t\n",
    "    train_time.append(train_t)\n",
    "    print(\"Time needed: {}\".format(train_t))"
   ]
  },
  {
   "cell_type": "code",
   "execution_count": 45,
   "metadata": {},
   "outputs": [
    {
     "data": {
      "image/png": "[encoded data removed]",
      "text/plain": [
       "<Figure size 720x360 with 2 Axes>"
      ]
     },
     "metadata": {
      "needs_background": "light"
     },
     "output_type": "display_data"
    }
   ],
   "source": [
    "labels = ['Backprop', 'RHC', 'SA', 'GA']\n",
    "x = np.arange(len(labels))  # the label locations\n",
    "width = 0.35  # the width of the bars\n",
    "\n",
    "#fig, axs = plt.subplots()\n",
    "fig, axs = plt.subplots(1, 2, figsize=(10, 5))\n",
    "rects1 = axs[0].bar(x - width/2, train_acc, width, label='train_acc')\n",
    "rects2 = axs[0].bar(x + width/2, test_acc, width, label='test_acc')\n",
    "\n",
    "# Add some text for labels, title and custom x-axis tick labels, etc.\n",
    "axs[0].set_ylabel('accuracy')\n",
    "axs[0].set_title('Training and Test Accracy')\n",
    "axs[0].set_xticks(x)\n",
    "axs[0].set_xticklabels(labels)\n",
    "axs[0].legend()\n",
    "\n",
    "# Add some text for labels, title and custom x-axis tick labels, etc.\n",
    "rects3 = axs[1].bar(x, train_time, width, label='train_time')\n",
    "axs[1].set_ylabel('time')\n",
    "axs[1].set_title('Training Time')\n",
    "axs[1].set_xticks(x)\n",
    "axs[1].set_xticklabels(labels)\n",
    "axs[1].legend()\n",
    "plt.savefig('NN.jpg')"
   ]
  },
  {
   "cell_type": "code",
   "execution_count": null,
   "metadata": {},
   "outputs": [],
   "source": []
  }
 ],
 "metadata": {
  "kernelspec": {
   "display_name": "Python 3",
   "language": "python",
   "name": "python3"
  },
  "language_info": {
   "codemirror_mode": {
    "name": "ipython",
    "version": 3
   },
   "file_extension": ".py",
   "mimetype": "text/x-python",
   "name": "python",
   "nbconvert_exporter": "python",
   "pygments_lexer": "ipython3",
   "version": "3.7.3"
  },
  "toc": {
   "base_numbering": 1,
   "nav_menu": {},
   "number_sections": true,
   "sideBar": true,
   "skip_h1_title": false,
   "title_cell": "Table of Contents",
   "title_sidebar": "Contents",
   "toc_cell": false,
   "toc_position": {},
   "toc_section_display": true,
   "toc_window_display": false
  }
 },
 "nbformat": 4,
 "nbformat_minor": 2
}
