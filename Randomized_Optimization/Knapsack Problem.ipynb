{
 "cells": [
  {
   "cell_type": "code",
   "execution_count": 1,
   "metadata": {},
   "outputs": [],
   "source": [
    "import six\n",
    "import sys\n",
    "sys.modules['sklearn.externals.six'] = six\n",
    "import mlrose\n",
    "import numpy as np\n",
    "\n",
    "from sklearn.datasets import load_iris\n",
    "from sklearn.model_selection import train_test_split\n",
    "from sklearn.preprocessing import MinMaxScaler, OneHotEncoder\n",
    "from sklearn.metrics import accuracy_score\n",
    "\n",
    "import matplotlib.pyplot as plt\n",
    "import time"
   ]
  },
  {
   "cell_type": "code",
   "execution_count": 2,
   "metadata": {},
   "outputs": [
    {
     "name": "stdout",
     "output_type": "stream",
     "text": [
      "[4, 2, 6, 6, 4, 6, 2, 2, 4, 8, 7, 9, 8, 5, 2, 5, 8, 9, 9, 1, 9, 7, 9, 8, 1, 8, 8, 3, 1, 8, 3, 3, 1, 5, 7, 9, 7, 9, 8, 2, 1, 7, 7, 8, 5, 3, 8, 6, 3, 1] [7, 4, 8, 5, 7, 3, 7, 8, 5, 4, 8, 8, 3, 6, 5, 2, 8, 6, 2, 5, 1, 6, 9, 1, 3, 7, 4, 9, 3, 5, 3, 7, 5, 9, 7, 2, 4, 9, 2, 9, 5, 2, 4, 7, 8, 3, 1, 4, 2, 8] 260\n"
     ]
    }
   ],
   "source": [
    "# Initialize fitness function object using coords_list\n",
    "# Knapsack problem of max weight of 50, max volume of 50 and 40 items\n",
    "np.random.seed(42)\n",
    "pack_num = 50\n",
    "weights = np.random.randint(1, 10, size=(pack_num)).tolist()\n",
    "values = np.random.randint(1, 10, size=(pack_num)).tolist()\n",
    "max_weight_pct = 0.5\n",
    "print(values, weights, sum(weights))\n",
    "\n",
    "fitness = mlrose.Knapsack(weights=weights, values=values, max_weight_pct=max_weight_pct)"
   ]
  },
  {
   "cell_type": "code",
   "execution_count": 3,
   "metadata": {},
   "outputs": [],
   "source": [
    "# Define optimization problem object\n",
    "problem_length = pack_num\n",
    "problem = mlrose.DiscreteOpt(length=problem_length, fitness_fn = fitness, maximize = True, max_val = 2)\n",
    "max_iters = 1000\n",
    "max_attempts = 1000"
   ]
  },
  {
   "cell_type": "code",
   "execution_count": 4,
   "metadata": {},
   "outputs": [],
   "source": [
    "# HC\n",
    "best_state, best_fitness, fitness_curve_RHC_0 = mlrose.random_hill_climb(problem, max_attempts=max_attempts,\n",
    "                                                                         max_iters=max_iters,restarts=0,\n",
    "                                                                         init_state=None, curve=True, random_state=42)"
   ]
  },
  {
   "cell_type": "code",
   "execution_count": 5,
   "metadata": {},
   "outputs": [],
   "source": [
    "# SA\n",
    "schedule = mlrose.GeomDecay(init_temp=10.0, decay=0.999, min_temp=0.001)\n",
    "best_state, best_fitness, fitness_curve_SA_10_999 = mlrose.simulated_annealing(problem, schedule=schedule,\n",
    "                                                                 max_attempts=max_attempts, max_iters=max_iters, \n",
    "                                                                 init_state=None, curve=True, random_state=42)\n",
    "schedule = mlrose.GeomDecay(init_temp=10.0, decay=0.99, min_temp=0.001)\n",
    "best_state, best_fitness, fitness_curve_SA_10_99 = mlrose.simulated_annealing(problem, schedule=schedule,\n",
    "                                                                 max_attempts=max_attempts, max_iters=max_iters, \n",
    "                                                                 init_state=None, curve=True, random_state=42)\n",
    "schedule = mlrose.GeomDecay(init_temp=10.0, decay=0.9, min_temp=0.001)\n",
    "best_state, best_fitness, fitness_curve_SA_10_9 = mlrose.simulated_annealing(problem, schedule=schedule,\n",
    "                                                                 max_attempts=max_attempts, max_iters=max_iters, \n",
    "                                                                 init_state=None, curve=True, random_state=42)\n",
    "schedule = mlrose.GeomDecay(init_temp=10.0, decay=0.8, min_temp=0.001)\n",
    "best_state, best_fitness, fitness_curve_SA_10_8 = mlrose.simulated_annealing(problem, schedule=schedule,\n",
    "                                                                 max_attempts=max_attempts, max_iters=max_iters, \n",
    "                                                                 init_state=None, curve=True, random_state=42)\n",
    "schedule = mlrose.GeomDecay(init_temp=1000.0, decay=0.99, min_temp=0.001)\n",
    "best_state, best_fitness, fitness_curve_SA_1000_9 = mlrose.simulated_annealing(problem, schedule=schedule,\n",
    "                                                                 max_attempts=max_attempts, max_iters=max_iters, \n",
    "                                                                 init_state=None, curve=True, random_state=42)\n",
    "schedule = mlrose.GeomDecay(init_temp=1.0, decay=0.99, min_temp=0.001)\n",
    "best_state, best_fitness, fitness_curve_SA_1_9 = mlrose.simulated_annealing(problem, schedule=schedule,\n",
    "                                                                 max_attempts=max_attempts, max_iters=max_iters, \n",
    "                                                                 init_state=None, curve=True, random_state=42)"
   ]
  },
  {
   "cell_type": "code",
   "execution_count": 6,
   "metadata": {},
   "outputs": [],
   "source": [
    "# GA\n",
    "best_state, best_fitness, fitness_curve_GA_20_001 = mlrose.genetic_alg(problem, pop_size=20, mutation_prob=0.01, \n",
    "                                                             max_attempts=max_attempts, max_iters=max_iters, curve=True, \n",
    "                                                             random_state=42)\n",
    "best_state, best_fitness, fitness_curve_GA_20_01 = mlrose.genetic_alg(problem, pop_size=20, mutation_prob=0.1, \n",
    "                                                             max_attempts=max_attempts, max_iters=max_iters, curve=True, \n",
    "                                                             random_state=42)\n",
    "best_state, best_fitness, fitness_curve_GA_20_02 = mlrose.genetic_alg(problem, pop_size=20, mutation_prob=0.2, \n",
    "                                                             max_attempts=max_attempts, max_iters=max_iters, curve=True, \n",
    "                                                             random_state=42)\n",
    "best_state, best_fitness, fitness_curve_GA_50_001 = mlrose.genetic_alg(problem, pop_size=50, mutation_prob=0.01, \n",
    "                                                             max_attempts=max_attempts, max_iters=max_iters, curve=True, \n",
    "                                                             random_state=42)\n",
    "best_state, best_fitness, fitness_curve_GA_50_01 = mlrose.genetic_alg(problem, pop_size=50, mutation_prob=0.1, \n",
    "                                                             max_attempts=max_attempts, max_iters=max_iters, curve=True, \n",
    "                                                             random_state=42)\n",
    "best_state, best_fitness, fitness_curve_GA_50_02 = mlrose.genetic_alg(problem, pop_size=50, mutation_prob=0.2, \n",
    "                                                             max_attempts=max_attempts, max_iters=max_iters, curve=True, \n",
    "                                                             random_state=42)"
   ]
  },
  {
   "cell_type": "code",
   "execution_count": 7,
   "metadata": {
    "scrolled": true
   },
   "outputs": [
    {
     "ename": "NameError",
     "evalue": "name 'ax2' is not defined",
     "output_type": "error",
     "traceback": [
      "\u001b[1;31m---------------------------------------------------------------------------\u001b[0m",
      "\u001b[1;31mNameError\u001b[0m                                 Traceback (most recent call last)",
      "\u001b[1;32m<ipython-input-7-38eb28e119aa>\u001b[0m in \u001b[0;36m<module>\u001b[1;34m\u001b[0m\n\u001b[0;32m      1\u001b[0m \u001b[1;31m#fig, ax2 = plt.subplots()\u001b[0m\u001b[1;33m\u001b[0m\u001b[1;33m\u001b[0m\u001b[1;33m\u001b[0m\u001b[0m\n\u001b[1;32m----> 2\u001b[1;33m \u001b[0max2\u001b[0m\u001b[1;33m.\u001b[0m\u001b[0mplot\u001b[0m\u001b[1;33m(\u001b[0m\u001b[0mfitness_curve_GA_20_001\u001b[0m\u001b[1;33m,\u001b[0m \u001b[0mlabel\u001b[0m\u001b[1;33m=\u001b[0m\u001b[1;34m'GA_20_001'\u001b[0m\u001b[1;33m)\u001b[0m\u001b[1;33m\u001b[0m\u001b[1;33m\u001b[0m\u001b[0m\n\u001b[0m\u001b[0;32m      3\u001b[0m \u001b[0max2\u001b[0m\u001b[1;33m.\u001b[0m\u001b[0mplot\u001b[0m\u001b[1;33m(\u001b[0m\u001b[0mfitness_curve_GA_20_01\u001b[0m\u001b[1;33m,\u001b[0m \u001b[0mlabel\u001b[0m\u001b[1;33m=\u001b[0m\u001b[1;34m'GA_20_01'\u001b[0m\u001b[1;33m)\u001b[0m\u001b[1;33m\u001b[0m\u001b[1;33m\u001b[0m\u001b[0m\n\u001b[0;32m      4\u001b[0m \u001b[0max2\u001b[0m\u001b[1;33m.\u001b[0m\u001b[0mplot\u001b[0m\u001b[1;33m(\u001b[0m\u001b[0mfitness_curve_GA_20_02\u001b[0m\u001b[1;33m,\u001b[0m \u001b[0mlabel\u001b[0m\u001b[1;33m=\u001b[0m\u001b[1;34m'GA_20_02'\u001b[0m\u001b[1;33m)\u001b[0m\u001b[1;33m\u001b[0m\u001b[1;33m\u001b[0m\u001b[0m\n\u001b[0;32m      5\u001b[0m \u001b[0max2\u001b[0m\u001b[1;33m.\u001b[0m\u001b[0mplot\u001b[0m\u001b[1;33m(\u001b[0m\u001b[0mfitness_curve_GA_50_001\u001b[0m\u001b[1;33m,\u001b[0m \u001b[0mlabel\u001b[0m\u001b[1;33m=\u001b[0m\u001b[1;34m'GA_50_001'\u001b[0m\u001b[1;33m)\u001b[0m\u001b[1;33m\u001b[0m\u001b[1;33m\u001b[0m\u001b[0m\n",
      "\u001b[1;31mNameError\u001b[0m: name 'ax2' is not defined"
     ]
    }
   ],
   "source": [
    "#fig, ax2 = plt.subplots()\n",
    "ax2.plot(fitness_curve_GA_20_001, label='GA_20_001')\n",
    "ax2.plot(fitness_curve_GA_20_01, label='GA_20_01')\n",
    "ax2.plot(fitness_curve_GA_20_02, label='GA_20_02')\n",
    "ax2.plot(fitness_curve_GA_50_001, label='GA_50_001')\n",
    "ax2.plot(fitness_curve_GA_50_01, label='GA_50_01')\n",
    "ax2.plot(fitness_curve_GA_50_02, label='GA_50_02')\n",
    "ax2.set_xlabel(\"iterations\")\n",
    "ax2.set_ylabel(\"fitness\")\n",
    "ax2.legend()\n",
    "ax2.set_ylim([0, problem_length])"
   ]
  },
  {
   "cell_type": "code",
   "execution_count": null,
   "metadata": {},
   "outputs": [],
   "source": [
    "# MIMIC\n",
    "best_state, best_fitness, fitness_curve_MIMIC_20_01 = mlrose.mimic(problem, pop_size=20, keep_pct=0.1,\n",
    "                                                             max_attempts=max_attempts, max_iters=max_iters,\n",
    "                                                             curve=True, random_state=None, fast_mimic=True)\n",
    "best_state, best_fitness, fitness_curve_MIMIC_20_02 = mlrose.mimic(problem, pop_size=20, keep_pct=0.2,\n",
    "                                                             max_attempts=max_attempts, max_iters=max_iters,\n",
    "                                                             curve=True, random_state=None, fast_mimic=True)\n",
    "best_state, best_fitness, fitness_curve_MIMIC_20_05 = mlrose.mimic(problem, pop_size=20, keep_pct=0.5,\n",
    "                                                             max_attempts=max_attempts, max_iters=max_iters,\n",
    "                                                             curve=True, random_state=None, fast_mimic=True)\n",
    "best_state, best_fitness, fitness_curve_MIMIC_50_01 = mlrose.mimic(problem, pop_size=50, keep_pct=0.1,\n",
    "                                                             max_attempts=max_attempts, max_iters=max_iters,\n",
    "                                                             curve=True, random_state=None, fast_mimic=True)\n",
    "best_state, best_fitness, fitness_curve_MIMIC_50_02 = mlrose.mimic(problem, pop_size=50, keep_pct=0.2,\n",
    "                                                             max_attempts=max_attempts, max_iters=max_iters,\n",
    "                                                             curve=True, random_state=None, fast_mimic=True)\n",
    "best_state, best_fitness, fitness_curve_MIMIC_50_05 = mlrose.mimic(problem, pop_size=50, keep_pct=0.5,\n",
    "                                                             max_attempts=max_attempts, max_iters=max_iters,\n",
    "                                                             curve=True, random_state=None, fast_mimic=True)"
   ]
  },
  {
   "cell_type": "code",
   "execution_count": null,
   "metadata": {},
   "outputs": [],
   "source": [
    "fig, ax3 = plt.subplots()\n",
    "ax3.plot(fitness_curve_MIMIC_20_01, label='MIMIC_20_01')\n",
    "ax3.plot(fitness_curve_MIMIC_20_02, label='MIMIC_20_02')\n",
    "ax3.plot(fitness_curve_MIMIC_20_05, label='MIMIC_20_05')\n",
    "ax3.plot(fitness_curve_MIMIC_50_01, label='MIMIC_50_01')\n",
    "ax3.plot(fitness_curve_MIMIC_50_02, label='MIMIC_50_02')\n",
    "ax3.plot(fitness_curve_MIMIC_50_05, label='MIMIC_50_05')\n",
    "#ax3.plot(fitness_curve_MIMIC_100_01, label='MIMIC_100_01')\n",
    "#ax3.plot(fitness_curve_MIMIC_100_02, label='MIMIC_100_02')\n",
    "#ax3.plot(fitness_curve_MIMIC_100_05, label='MIMIC_100_05')\n",
    "ax3.set_xlabel(\"iterations\")\n",
    "ax3.set_ylabel(\"fitness\")\n",
    "ax3.legend()\n",
    "ax3.set_ylim([0, problem_length])"
   ]
  },
  {
   "cell_type": "code",
   "execution_count": null,
   "metadata": {},
   "outputs": [],
   "source": [
    "fig, ([ax0, ax1], [ax2, ax3]) = plt.subplots(nrows=2, ncols=2, figsize=(15, 10), sharey=True)\n",
    "\n",
    "ylim = 250\n",
    "\n",
    "ax0.plot(fitness_curve_RHC_0, label='HC')\n",
    "ax0.set_xlabel(\"iterations\")\n",
    "ax0.set_ylabel(\"fitness\")\n",
    "ax0.legend()\n",
    "ax0.set_title('Hill Climbing')\n",
    "ax0.set_ylim([0, ylim])\n",
    "\n",
    "ax1.plot(fitness_curve_SA_10_999, label='SA_10_999')\n",
    "ax1.plot(fitness_curve_SA_10_99, label='SA_10_99')\n",
    "ax1.plot(fitness_curve_SA_10_9, label='SA_10_9')\n",
    "ax1.plot(fitness_curve_SA_10_8, label='SA_10_8')\n",
    "ax1.plot(fitness_curve_SA_1000_9, label='SA_1000_9')\n",
    "ax1.plot(fitness_curve_SA_1_9, label='SA_1_9')\n",
    "ax1.set_xlabel(\"iterations\")\n",
    "ax1.set_ylabel(\"fitness\")\n",
    "ax1.legend()\n",
    "ax1.set_title('Simulated Annealing')\n",
    "ax1.set_ylim([0, ylim])\n",
    "\n",
    "ax2.plot(fitness_curve_GA_20_001, label='GA_20_001')\n",
    "ax2.plot(fitness_curve_GA_20_01, label='GA_20_01')\n",
    "ax2.plot(fitness_curve_GA_20_02, label='GA_20_02')\n",
    "ax2.plot(fitness_curve_GA_50_001, label='GA_50_001')\n",
    "ax2.plot(fitness_curve_GA_50_01, label='GA_50_01')\n",
    "ax2.plot(fitness_curve_GA_50_02, label='GA_50_02')\n",
    "ax2.set_xlabel(\"iterations\")\n",
    "ax2.set_ylabel(\"fitness\")\n",
    "ax2.legend()\n",
    "ax2.set_title('Genetic Algorithm')\n",
    "ax2.set_ylim([0, ylim])\n",
    "\n",
    "ax3.plot(fitness_curve_MIMIC_20_01, label='MIMIC_20_01')\n",
    "ax3.plot(fitness_curve_MIMIC_20_02, label='MIMIC_20_02')\n",
    "ax3.plot(fitness_curve_MIMIC_20_05, label='MIMIC_20_05')\n",
    "ax3.plot(fitness_curve_MIMIC_50_01, label='MIMIC_50_01')\n",
    "ax3.plot(fitness_curve_MIMIC_50_02, label='MIMIC_50_02')\n",
    "ax3.plot(fitness_curve_MIMIC_50_05, label='MIMIC_50_05')\n",
    "#ax3.plot(fitness_curve_MIMIC_100_01, label='MIMIC_100_01')\n",
    "#ax3.plot(fitness_curve_MIMIC_100_02, label='MIMIC_100_02')\n",
    "#ax3.plot(fitness_curve_MIMIC_100_05, label='MIMIC_100_05')\n",
    "ax3.set_xlabel(\"iterations\")\n",
    "ax3.set_ylabel(\"fitness\")\n",
    "ax3.legend()\n",
    "ax3.set_title('MIMIC')\n",
    "ax3.set_ylim([0, ylim])\n",
    "plt.savefig('Sack1.jpg')"
   ]
  },
  {
   "cell_type": "code",
   "execution_count": null,
   "metadata": {},
   "outputs": [],
   "source": []
  },
  {
   "cell_type": "code",
   "execution_count": null,
   "metadata": {},
   "outputs": [],
   "source": [
    "import time\n",
    "# RHC\n",
    "start = time.clock()\n",
    "best_state, best_fitness_RHC, fitness_curve_RHC = mlrose.random_hill_climb(problem, max_attempts=max_attempts, \n",
    "                                                                max_iters=max_iters,\n",
    "                                                                restarts=20, init_state=None, curve=True,\n",
    "                                                                random_state=42)\n",
    "end = time.clock()\n",
    "fitness_time_RHC = end - start\n",
    "\n",
    "# SA\n",
    "start = time.clock()\n",
    "schedule = mlrose.GeomDecay(init_temp=10.0, decay=0.99, min_temp=0.001)\n",
    "best_state, best_fitness_SA, fitness_curve_SA = mlrose.simulated_annealing(problem, schedule=schedule,\n",
    "                                                                 max_attempts=max_attempts, max_iters=max_iters, \n",
    "                                                                 init_state=None, curve=True, random_state=42)\n",
    "end = time.clock()\n",
    "fitness_time_SA = end - start\n",
    "\n",
    "# GA\n",
    "start = time.clock()\n",
    "best_state, best_fitness_GA, fitness_curve_GA = mlrose.genetic_alg(problem, pop_size=50, mutation_prob=0.01, \n",
    "                                                             max_attempts=max_attempts, max_iters=max_iters, curve=True, \n",
    "                                                             random_state=42)\n",
    "end = time.clock()\n",
    "fitness_time_GA = end - start\n",
    "\n",
    "# MIMIC\n",
    "start = time.clock()\n",
    "best_state, best_fitness_MIMIC, fitness_curve_MIMIC = mlrose.mimic(problem, pop_size=50, keep_pct=0.5,\n",
    "                                                             max_attempts=max_attempts, max_iters=max_iters/20,\n",
    "                                                             curve=True, random_state=None, fast_mimic=True)\n",
    "end = time.clock()\n",
    "fitness_time_MIMIC = end - start\n"
   ]
  },
  {
   "cell_type": "code",
   "execution_count": null,
   "metadata": {
    "scrolled": true
   },
   "outputs": [],
   "source": [
    "best_fitness = {'RHC': best_fitness_RHC, 'SA': best_fitness_SA, 'GA': best_fitness_GA, 'MIMIC': best_fitness_MIMIC}\n",
    "fit_time = {'RHC': fitness_time_RHC, 'SA': fitness_time_SA, 'GA': fitness_time_GA, 'MIMIC': fitness_time_MIMIC}\n",
    "names = list(best_fitness.keys())\n",
    "fitness = list(best_fitness.values())\n",
    "time = list(fit_time.values())\n",
    "\n",
    "fig, axs = plt.subplots(1, 2, figsize=(10, 5))\n",
    "axs[0].set_ylim([0, ylim])\n",
    "axs[0].bar(names, fitness)\n",
    "axs[0].set_title('Best Fitness')\n",
    "\n",
    "axs[1].bar(names, time)\n",
    "axs[1].set_title('Fitness Time')\n",
    "plt.savefig('Sack2.jpg')"
   ]
  }
 ],
 "metadata": {
  "kernelspec": {
   "display_name": "Python 3",
   "language": "python",
   "name": "python3"
  },
  "language_info": {
   "codemirror_mode": {
    "name": "ipython",
    "version": 3
   },
   "file_extension": ".py",
   "mimetype": "text/x-python",
   "name": "python",
   "nbconvert_exporter": "python",
   "pygments_lexer": "ipython3",
   "version": "3.7.3"
  },
  "toc": {
   "base_numbering": 1,
   "nav_menu": {},
   "number_sections": true,
   "sideBar": true,
   "skip_h1_title": false,
   "title_cell": "Table of Contents",
   "title_sidebar": "Contents",
   "toc_cell": false,
   "toc_position": {},
   "toc_section_display": true,
   "toc_window_display": false
  }
 },
 "nbformat": 4,
 "nbformat_minor": 2
}
